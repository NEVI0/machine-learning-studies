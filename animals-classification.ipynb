{
 "cells": [
  {
   "cell_type": "code",
   "execution_count": 7,
   "metadata": {},
   "outputs": [
    {
     "data": {
      "text/plain": [
       "LinearSVC()"
      ]
     },
     "execution_count": 7,
     "metadata": {},
     "output_type": "execute_result"
    }
   ],
   "source": [
    "from sklearn.svm import LinearSVC\n",
    "\n",
    "# Features (1 sim, 0 não)\n",
    "# Pelo longo?\n",
    "# Perna curta?\n",
    "# Faz auau?\n",
    "\n",
    "pig1 = [0, 1, 0]\n",
    "pig2 = [0, 1, 1]\n",
    "pig3 = [1, 1, 0]\n",
    "\n",
    "dog1 = [0, 1, 1]\n",
    "dog2 = [1, 0, 1]\n",
    "dog3 = [1, 1, 1]\n",
    "\n",
    "# 1 Porco, 0 Cachorro\n",
    "data = [pig1, pig2, pig3, dog1, dog2, dog3]\n",
    "classes = [1, 1, 1, 0, 0 ,0]\n",
    "\n",
    "data_model = LinearSVC()\n",
    "data_model.fit(data, classes)"
   ]
  },
  {
   "cell_type": "code",
   "execution_count": 8,
   "metadata": {},
   "outputs": [
    {
     "data": {
      "text/plain": [
       "array([0])"
      ]
     },
     "execution_count": 8,
     "metadata": {},
     "output_type": "execute_result"
    }
   ],
   "source": [
    "random_animal_test = [1, 1, 1]\n",
    "data_model.predict([random_animal_test])"
   ]
  },
  {
   "cell_type": "code",
   "execution_count": 9,
   "metadata": {},
   "outputs": [
    {
     "data": {
      "text/plain": [
       "array([0, 1, 0])"
      ]
     },
     "execution_count": 9,
     "metadata": {},
     "output_type": "execute_result"
    }
   ],
   "source": [
    "random_animal1 = [1, 1, 1]\n",
    "random_animal2 = [1, 1, 0]\n",
    "random_animal3 = [0, 1, 1]\n",
    "\n",
    "data_model_test = [random_animal1, random_animal2, random_animal3]\n",
    "predictions_percentage = data_model.predict(data_model_test)\n",
    "\n",
    "predictions_percentage"
   ]
  },
  {
   "cell_type": "code",
   "execution_count": 10,
   "metadata": {},
   "outputs": [
    {
     "name": "stdout",
     "output_type": "stream",
     "text": [
      "Taxa de acertos: 66.66666666666666%\n"
     ]
    }
   ],
   "source": [
    "data_model_test_classes = [0, 1, 1]\n",
    "predictions_percentage == data_model_test_classes\n",
    "\n",
    "correct_awnsers = (predictions_percentage == data_model_test_classes).sum()\n",
    "total_model_tests = len(data_model_test)\n",
    "\n",
    "correct_awnsers_accuracy = correct_awnsers / total_model_tests\n",
    "print(f'Taxa de acertos: {correct_awnsers_accuracy * 100}%')"
   ]
  },
  {
   "cell_type": "code",
   "execution_count": 11,
   "metadata": {},
   "outputs": [
    {
     "name": "stdout",
     "output_type": "stream",
     "text": [
      "Taxa de acertos pela lib Sklearn: 66.66666666666666%\n"
     ]
    }
   ],
   "source": [
    "from sklearn.metrics import accuracy_score\n",
    "\n",
    "correct_awnsers_accuracy = accuracy_score(data_model_test_classes, predictions_percentage)\n",
    "print(f'Taxa de acertos pela lib Sklearn: {correct_awnsers_accuracy * 100}%')"
   ]
  }
 ],
 "metadata": {
  "kernelspec": {
   "display_name": "Python 3.9.13 ('base')",
   "language": "python",
   "name": "python3"
  },
  "language_info": {
   "codemirror_mode": {
    "name": "ipython",
    "version": 3
   },
   "file_extension": ".py",
   "mimetype": "text/x-python",
   "name": "python",
   "nbconvert_exporter": "python",
   "pygments_lexer": "ipython3",
   "version": "3.9.13"
  },
  "orig_nbformat": 4,
  "vscode": {
   "interpreter": {
    "hash": "ad2bdc8ecc057115af97d19610ffacc2b4e99fae6737bb82f5d7fb13d2f2c186"
   }
  }
 },
 "nbformat": 4,
 "nbformat_minor": 2
}
