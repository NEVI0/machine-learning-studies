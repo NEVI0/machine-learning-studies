{
 "cells": [
  {
   "cell_type": "markdown",
   "metadata": {},
   "source": [
    "<h2 style=\"color: #fff;\">\n",
    "    Clusterizaço de Dados\n",
    "</h2>\n",
    "\n",
    "<p style=\"color: #b4b4bb;\">\n",
    "    Algoritimo de clusterização (agrupamento) de dados.\n",
    "</p>"
   ]
  },
  {
   "cell_type": "code",
   "execution_count": 21,
   "metadata": {},
   "outputs": [
    {
     "data": {
      "text/html": [
       "<div>\n",
       "<style scoped>\n",
       "    .dataframe tbody tr th:only-of-type {\n",
       "        vertical-align: middle;\n",
       "    }\n",
       "\n",
       "    .dataframe tbody tr th {\n",
       "        vertical-align: top;\n",
       "    }\n",
       "\n",
       "    .dataframe thead th {\n",
       "        text-align: right;\n",
       "    }\n",
       "</style>\n",
       "<table border=\"1\" class=\"dataframe\">\n",
       "  <thead>\n",
       "    <tr style=\"text-align: right;\">\n",
       "      <th></th>\n",
       "      <th>BALANCE</th>\n",
       "      <th>BALANCE_FREQUENCY</th>\n",
       "      <th>PURCHASES</th>\n",
       "      <th>ONEOFF_PURCHASES</th>\n",
       "      <th>INSTALLMENTS_PURCHASES</th>\n",
       "      <th>CASH_ADVANCE</th>\n",
       "      <th>PURCHASES_FREQUENCY</th>\n",
       "      <th>ONEOFF_PURCHASES_FREQUENCY</th>\n",
       "      <th>PURCHASES_INSTALLMENTS_FREQUENCY</th>\n",
       "      <th>CASH_ADVANCE_FREQUENCY</th>\n",
       "      <th>CASH_ADVANCE_TRX</th>\n",
       "      <th>PURCHASES_TRX</th>\n",
       "      <th>CREDIT_LIMIT</th>\n",
       "      <th>PAYMENTS</th>\n",
       "      <th>MINIMUM_PAYMENTS</th>\n",
       "      <th>PRC_FULL_PAYMENT</th>\n",
       "    </tr>\n",
       "  </thead>\n",
       "  <tbody>\n",
       "    <tr>\n",
       "      <th>0</th>\n",
       "      <td>40.900749</td>\n",
       "      <td>0.818182</td>\n",
       "      <td>95.40</td>\n",
       "      <td>0.00</td>\n",
       "      <td>95.4</td>\n",
       "      <td>0.000000</td>\n",
       "      <td>0.166667</td>\n",
       "      <td>0.000000</td>\n",
       "      <td>0.083333</td>\n",
       "      <td>0.000000</td>\n",
       "      <td>0</td>\n",
       "      <td>2</td>\n",
       "      <td>1000.0</td>\n",
       "      <td>201.802084</td>\n",
       "      <td>139.509787</td>\n",
       "      <td>0.000000</td>\n",
       "    </tr>\n",
       "    <tr>\n",
       "      <th>1</th>\n",
       "      <td>3202.467416</td>\n",
       "      <td>0.909091</td>\n",
       "      <td>0.00</td>\n",
       "      <td>0.00</td>\n",
       "      <td>0.0</td>\n",
       "      <td>6442.945483</td>\n",
       "      <td>0.000000</td>\n",
       "      <td>0.000000</td>\n",
       "      <td>0.000000</td>\n",
       "      <td>0.250000</td>\n",
       "      <td>4</td>\n",
       "      <td>0</td>\n",
       "      <td>7000.0</td>\n",
       "      <td>4103.032597</td>\n",
       "      <td>1072.340217</td>\n",
       "      <td>0.222222</td>\n",
       "    </tr>\n",
       "    <tr>\n",
       "      <th>2</th>\n",
       "      <td>2495.148862</td>\n",
       "      <td>1.000000</td>\n",
       "      <td>773.17</td>\n",
       "      <td>773.17</td>\n",
       "      <td>0.0</td>\n",
       "      <td>0.000000</td>\n",
       "      <td>1.000000</td>\n",
       "      <td>1.000000</td>\n",
       "      <td>0.000000</td>\n",
       "      <td>0.000000</td>\n",
       "      <td>0</td>\n",
       "      <td>12</td>\n",
       "      <td>7500.0</td>\n",
       "      <td>622.066742</td>\n",
       "      <td>627.284787</td>\n",
       "      <td>0.000000</td>\n",
       "    </tr>\n",
       "    <tr>\n",
       "      <th>3</th>\n",
       "      <td>1666.670542</td>\n",
       "      <td>0.636364</td>\n",
       "      <td>1499.00</td>\n",
       "      <td>1499.00</td>\n",
       "      <td>0.0</td>\n",
       "      <td>205.788017</td>\n",
       "      <td>0.083333</td>\n",
       "      <td>0.083333</td>\n",
       "      <td>0.000000</td>\n",
       "      <td>0.083333</td>\n",
       "      <td>1</td>\n",
       "      <td>1</td>\n",
       "      <td>7500.0</td>\n",
       "      <td>0.000000</td>\n",
       "      <td>NaN</td>\n",
       "      <td>0.000000</td>\n",
       "    </tr>\n",
       "    <tr>\n",
       "      <th>4</th>\n",
       "      <td>817.714335</td>\n",
       "      <td>1.000000</td>\n",
       "      <td>16.00</td>\n",
       "      <td>16.00</td>\n",
       "      <td>0.0</td>\n",
       "      <td>0.000000</td>\n",
       "      <td>0.083333</td>\n",
       "      <td>0.083333</td>\n",
       "      <td>0.000000</td>\n",
       "      <td>0.000000</td>\n",
       "      <td>0</td>\n",
       "      <td>1</td>\n",
       "      <td>1200.0</td>\n",
       "      <td>678.334763</td>\n",
       "      <td>244.791237</td>\n",
       "      <td>0.000000</td>\n",
       "    </tr>\n",
       "  </tbody>\n",
       "</table>\n",
       "</div>"
      ],
      "text/plain": [
       "       BALANCE  BALANCE_FREQUENCY  PURCHASES  ONEOFF_PURCHASES  \\\n",
       "0    40.900749           0.818182      95.40              0.00   \n",
       "1  3202.467416           0.909091       0.00              0.00   \n",
       "2  2495.148862           1.000000     773.17            773.17   \n",
       "3  1666.670542           0.636364    1499.00           1499.00   \n",
       "4   817.714335           1.000000      16.00             16.00   \n",
       "\n",
       "   INSTALLMENTS_PURCHASES  CASH_ADVANCE  PURCHASES_FREQUENCY  \\\n",
       "0                    95.4      0.000000             0.166667   \n",
       "1                     0.0   6442.945483             0.000000   \n",
       "2                     0.0      0.000000             1.000000   \n",
       "3                     0.0    205.788017             0.083333   \n",
       "4                     0.0      0.000000             0.083333   \n",
       "\n",
       "   ONEOFF_PURCHASES_FREQUENCY  PURCHASES_INSTALLMENTS_FREQUENCY  \\\n",
       "0                    0.000000                          0.083333   \n",
       "1                    0.000000                          0.000000   \n",
       "2                    1.000000                          0.000000   \n",
       "3                    0.083333                          0.000000   \n",
       "4                    0.083333                          0.000000   \n",
       "\n",
       "   CASH_ADVANCE_FREQUENCY  CASH_ADVANCE_TRX  PURCHASES_TRX  CREDIT_LIMIT  \\\n",
       "0                0.000000                 0              2        1000.0   \n",
       "1                0.250000                 4              0        7000.0   \n",
       "2                0.000000                 0             12        7500.0   \n",
       "3                0.083333                 1              1        7500.0   \n",
       "4                0.000000                 0              1        1200.0   \n",
       "\n",
       "      PAYMENTS  MINIMUM_PAYMENTS  PRC_FULL_PAYMENT  \n",
       "0   201.802084        139.509787          0.000000  \n",
       "1  4103.032597       1072.340217          0.222222  \n",
       "2   622.066742        627.284787          0.000000  \n",
       "3     0.000000               NaN          0.000000  \n",
       "4   678.334763        244.791237          0.000000  "
      ]
     },
     "execution_count": 21,
     "metadata": {},
     "output_type": "execute_result"
    }
   ],
   "source": [
    "import pandas as pd\n",
    "\n",
    "url = 'https://raw.githubusercontent.com/alura-cursos/alura-clustering-validation/base-de-dados/CC%20GENERAL.csv'\n",
    "dataframe = pd.read_csv(url)\n",
    "\n",
    "dataframe.drop(columns=['CUST_ID', 'TENURE'], inplace=True) # Fazendo o pré-processamento dos dados.\n",
    "dataframe.head()"
   ]
  },
  {
   "cell_type": "code",
   "execution_count": 22,
   "metadata": {},
   "outputs": [
    {
     "name": "stdout",
     "output_type": "stream",
     "text": [
      "BALANCE                               0\n",
      "BALANCE_FREQUENCY                     0\n",
      "PURCHASES                             0\n",
      "ONEOFF_PURCHASES                      0\n",
      "INSTALLMENTS_PURCHASES                0\n",
      "CASH_ADVANCE                          0\n",
      "PURCHASES_FREQUENCY                   0\n",
      "ONEOFF_PURCHASES_FREQUENCY            0\n",
      "PURCHASES_INSTALLMENTS_FREQUENCY      0\n",
      "CASH_ADVANCE_FREQUENCY                0\n",
      "CASH_ADVANCE_TRX                      0\n",
      "PURCHASES_TRX                         0\n",
      "CREDIT_LIMIT                          1\n",
      "PAYMENTS                              0\n",
      "MINIMUM_PAYMENTS                    313\n",
      "PRC_FULL_PAYMENT                      0\n",
      "dtype: int64\n"
     ]
    }
   ],
   "source": [
    "missing = dataframe.isna().sum()\n",
    "print(missing)"
   ]
  },
  {
   "cell_type": "code",
   "execution_count": 23,
   "metadata": {},
   "outputs": [
    {
     "name": "stdout",
     "output_type": "stream",
     "text": [
      "BALANCE                             0\n",
      "BALANCE_FREQUENCY                   0\n",
      "PURCHASES                           0\n",
      "ONEOFF_PURCHASES                    0\n",
      "INSTALLMENTS_PURCHASES              0\n",
      "CASH_ADVANCE                        0\n",
      "PURCHASES_FREQUENCY                 0\n",
      "ONEOFF_PURCHASES_FREQUENCY          0\n",
      "PURCHASES_INSTALLMENTS_FREQUENCY    0\n",
      "CASH_ADVANCE_FREQUENCY              0\n",
      "CASH_ADVANCE_TRX                    0\n",
      "PURCHASES_TRX                       0\n",
      "CREDIT_LIMIT                        0\n",
      "PAYMENTS                            0\n",
      "MINIMUM_PAYMENTS                    0\n",
      "PRC_FULL_PAYMENT                    0\n",
      "dtype: int64\n"
     ]
    }
   ],
   "source": [
    "dataframe.fillna(dataframe.median(), inplace=True) # Preenche os dados NaN com a mediana das colunas\n",
    "missing = dataframe.isna().sum()\n",
    "print(missing)"
   ]
  },
  {
   "cell_type": "markdown",
   "metadata": {},
   "source": [
    "<p style=\"color: #b4b4bb;\">\n",
    "    Normalizando os dados do dataframe para todos ficarem no mesmo padrão.\n",
    "</p>"
   ]
  },
  {
   "cell_type": "code",
   "execution_count": 24,
   "metadata": {},
   "outputs": [],
   "source": [
    "from sklearn.preprocessing import Normalizer\n",
    "normalized_values = Normalizer().fit_transform(dataframe.values)"
   ]
  },
  {
   "cell_type": "markdown",
   "metadata": {},
   "source": [
    "<p style=\"color: #b4b4bb;\">\n",
    "    Clusterizando os dados com o KMeans\n",
    "</p>"
   ]
  },
  {
   "cell_type": "code",
   "execution_count": 25,
   "metadata": {},
   "outputs": [],
   "source": [
    "from sklearn.cluster import KMeans\n",
    "\n",
    "# n_clusters = Número de clusters a serem gerados\n",
    "# n_init = Retorna o número de vezes seguidas o mesmo valor (parecido com a SEED do random_state)\n",
    "# max_iter = Número de itarações que o cluster vai fazer\n",
    "\n",
    "kmeans = KMeans(n_clusters=5, n_init=10, max_iter=300)\n",
    "y_predicted = kmeans.fit_predict(normalized_values) # Valores preditos (resultados) da clusterização"
   ]
  },
  {
   "cell_type": "markdown",
   "metadata": {},
   "source": [
    "<h4 style=\"color: #fff;\">\n",
    "    Validando o cluster\n",
    "</h4>\n",
    "\n",
    "<p style=\"color: #b4b4bb;\">\n",
    "    Calculando o coeficiente de Silhouette.\n",
    "</p>"
   ]
  },
  {
   "cell_type": "code",
   "execution_count": 26,
   "metadata": {},
   "outputs": [
    {
     "data": {
      "text/plain": [
       "0.36457606314711744"
      ]
     },
     "execution_count": 26,
     "metadata": {},
     "output_type": "execute_result"
    }
   ],
   "source": [
    "from sklearn.metrics import silhouette_score\n",
    "\n",
    "labels = kmeans.labels_\n",
    "dataframe['cluster'] = labels\n",
    "\n",
    "# metric = Métrica para calcular o coeficiente (geralmente é utilizada a métrica Euclidiana)\n",
    "silhouette = silhouette_score(normalized_values, labels, metric='euclidean')\n",
    "silhouette\n",
    "\n",
    "# Maior que zero é considerado um valor bom"
   ]
  },
  {
   "cell_type": "markdown",
   "metadata": {},
   "source": [
    "<p style=\"color: #b4b4bb;\">\n",
    "    Calculando o Davies-Bouldin.\n",
    "</p>"
   ]
  },
  {
   "cell_type": "code",
   "execution_count": 27,
   "metadata": {},
   "outputs": [
    {
     "data": {
      "text/plain": [
       "1.0749530537541765"
      ]
     },
     "execution_count": 27,
     "metadata": {},
     "output_type": "execute_result"
    }
   ],
   "source": [
    "from sklearn.metrics import davies_bouldin_score\n",
    "\n",
    "dbs = davies_bouldin_score(normalized_values, labels)\n",
    "dbs\n",
    "\n",
    "# Quanto mais próximo de zero melhor"
   ]
  },
  {
   "cell_type": "markdown",
   "metadata": {},
   "source": [
    "<p style=\"color: #b4b4bb;\">\n",
    "    Calculando o Calinski.\n",
    "</p>"
   ]
  },
  {
   "cell_type": "code",
   "execution_count": 28,
   "metadata": {},
   "outputs": [
    {
     "data": {
      "text/plain": [
       "3431.5800207486104"
      ]
     },
     "execution_count": 28,
     "metadata": {},
     "output_type": "execute_result"
    }
   ],
   "source": [
    "from sklearn.metrics import calinski_harabasz_score\n",
    "\n",
    "calinski = calinski_harabasz_score(normalized_values, labels)\n",
    "calinski"
   ]
  },
  {
   "cell_type": "markdown",
   "metadata": {},
   "source": [
    "<p style=\"color: #b4b4bb;\">\n",
    "    Adicionando função para clusterizar os dados.\n",
    "</p>"
   ]
  },
  {
   "cell_type": "code",
   "execution_count": 29,
   "metadata": {},
   "outputs": [],
   "source": [
    "from sklearn.cluster import KMeans\n",
    "from sklearn.metrics import silhouette_score, davies_bouldin_score, calinski_harabasz_score\n",
    "\n",
    "def clustering_algorithm(n_clusters, dataset):\n",
    "    kmeans = KMeans(n_clusters=n_clusters, n_init=10, max_iter=300)\n",
    "    labels = kmeans.fit_predict(dataset)\n",
    "\n",
    "    silhouette = silhouette_score(dataset, labels, metric='euclidean')\n",
    "    dbs = davies_bouldin_score(dataset, labels)\n",
    "    calinski = calinski_harabasz_score(dataset, labels)\n",
    "\n",
    "    return silhouette, dbs, calinski"
   ]
  },
  {
   "cell_type": "code",
   "execution_count": 30,
   "metadata": {},
   "outputs": [
    {
     "data": {
      "text/plain": [
       "(0.36457606314711744, 1.0749530537541765, 3431.5800207486104)"
      ]
     },
     "execution_count": 30,
     "metadata": {},
     "output_type": "execute_result"
    }
   ],
   "source": [
    "clustered_data = clustering_algorithm(5, normalized_values)\n",
    "clustered_data"
   ]
  },
  {
   "cell_type": "markdown",
   "metadata": {},
   "source": [
    "<p style=\"color: #b4b4bb;\">\n",
    "    Gerando conjunto de dados aleatórios com base no dataframe para conparar a clusterização principal.\n",
    "</p>"
   ]
  },
  {
   "cell_type": "code",
   "execution_count": 31,
   "metadata": {},
   "outputs": [
    {
     "name": "stdout",
     "output_type": "stream",
     "text": [
      "Dados randomicos:  (0.037061724700488366, 3.6455540678078457, 283.98159971893574)\n",
      "Dados normais:  (0.36457606314711744, 1.0749530537541765, 3431.5800207486104)\n"
     ]
    }
   ],
   "source": [
    "import numpy as np\n",
    "\n",
    "random_data_rows_number = dataframe.count().max()\n",
    "random_data_columns_number = dataframe.count(axis=1).max()\n",
    "\n",
    "random_data = np.random.rand(random_data_rows_number, random_data_columns_number)\n",
    "random_cluster = clustering_algorithm(5, random_data)\n",
    "\n",
    "print(f'Dados randomicos: ', random_cluster)\n",
    "print(f'Dados normais: ', clustered_data)"
   ]
  },
  {
   "cell_type": "markdown",
   "metadata": {},
   "source": [
    "<p style=\"color: #b4b4bb;\">\n",
    "    Validando a estabilidade do cluster.\n",
    "</p>"
   ]
  },
  {
   "cell_type": "code",
   "execution_count": 32,
   "metadata": {},
   "outputs": [
    {
     "name": "stdout",
     "output_type": "stream",
     "text": [
      "Dataset 1:  (0.3692455604046628, 1.0550439720459241, 1203.9722444846889)\n",
      "Dataset 2:  (0.35406999696241026, 1.138955453029994, 1194.945411949724)\n",
      "Dataset 3:  (0.36704188760608253, 1.0984932613776761, 1167.5309516803998)\n"
     ]
    }
   ],
   "source": [
    "dataset1, dataset2, dataset3 = np.array_split(normalized_values, 3)\n",
    "\n",
    "dataset1_cluster = clustering_algorithm(5, dataset1)\n",
    "dataset2_cluster = clustering_algorithm(5, dataset2)\n",
    "dataset3_cluster = clustering_algorithm(5, dataset3)\n",
    "\n",
    "print(f'Dataset 1: ', dataset1_cluster)\n",
    "print(f'Dataset 2: ', dataset2_cluster)\n",
    "print(f'Dataset 3: ', dataset3_cluster)"
   ]
  },
  {
   "cell_type": "markdown",
   "metadata": {},
   "source": [
    "<h4 style=\"color: #fff;\">\n",
    "    Interpretando os clusters\n",
    "</h4>"
   ]
  },
  {
   "cell_type": "code",
   "execution_count": 33,
   "metadata": {},
   "outputs": [
    {
     "data": {
      "image/png": "[encoded data removed]",
      "text/plain": [
       "<Figure size 640x480 with 1 Axes>"
      ]
     },
     "metadata": {},
     "output_type": "display_data"
    }
   ],
   "source": [
    "import matplotlib.pyplot as plt\n",
    "\n",
    "plt.scatter(dataframe['PURCHASES'], dataframe['PAYMENTS'], c=labels, s=5, cmap='rainbow')\n",
    "plt.xlabel('Valor total pago')\n",
    "plt.ylabel('Valot total gasto')\n",
    "\n",
    "plt.show()"
   ]
  },
  {
   "cell_type": "markdown",
   "metadata": {},
   "source": [
    "<p style=\"color: #b4b4bb;\">\n",
    "    Analisando os valores\n",
    "</p>"
   ]
  },
  {
   "cell_type": "code",
   "execution_count": 34,
   "metadata": {},
   "outputs": [
    {
     "data": {
      "text/plain": [
       "array([[3.25353404e-01, 2.65107134e-04, 1.56328874e-01, 3.19956843e-02,\n",
       "        1.24729430e-01, 5.85055530e-02, 1.64871703e-04, 2.32153428e-05,\n",
       "        1.48371109e-04, 1.94946303e-05, 4.27312575e-04, 3.84405841e-03,\n",
       "        3.70133058e-01, 2.52368047e-01, 6.87847998e-01, 4.41810140e-06],\n",
       "       [5.05989164e-01, 2.73074755e-04, 6.25843508e-02, 3.68439095e-02,\n",
       "        2.57622119e-02, 2.50057502e-01, 6.83158347e-05, 2.62481331e-05,\n",
       "        4.55565431e-05, 5.70480115e-05, 1.14571531e-03, 1.34994337e-03,\n",
       "        7.18745256e-01, 1.66305540e-01, 1.80598456e-01, 5.33805925e-07],\n",
       "       [1.60110416e-01, 2.45280705e-04, 4.37732651e-01, 2.56517188e-01,\n",
       "        1.81386198e-01, 2.59067324e-02, 2.04540918e-04, 8.88590206e-05,\n",
       "        1.50834052e-04, 9.42624608e-06, 1.73138127e-04, 6.16861108e-03,\n",
       "        6.03132261e-01, 4.03855410e-01, 8.58012060e-02, 7.22720247e-05],\n",
       "       [6.92851115e-02, 2.30533975e-04, 1.21270195e-01, 4.79607490e-02,\n",
       "        7.34096142e-02, 2.47304078e-02, 1.72496260e-04, 3.36548913e-05,\n",
       "        1.39989138e-04, 7.97387208e-06, 1.25526695e-04, 2.85856638e-03,\n",
       "        9.43583257e-01, 1.53621974e-01, 5.68386195e-02, 7.57997367e-05],\n",
       "       [2.36713453e-01, 2.16961764e-04, 5.90293196e-02, 3.35589818e-02,\n",
       "        2.54755090e-02, 4.04460081e-01, 5.16953900e-05, 2.01969756e-05,\n",
       "        3.43732340e-05, 6.61260673e-05, 1.58762268e-03, 1.09779947e-03,\n",
       "        5.37642538e-01, 5.92146837e-01, 1.04865812e-01, 2.74145272e-05]])"
      ]
     },
     "execution_count": 34,
     "metadata": {},
     "output_type": "execute_result"
    }
   ],
   "source": [
    "centroids = kmeans.cluster_centers_\n",
    "centroids"
   ]
  },
  {
   "cell_type": "code",
   "execution_count": 35,
   "metadata": {},
   "outputs": [
    {
     "name": "stderr",
     "output_type": "stream",
     "text": [
      "C:\\Users\\Nevio Costa Magagnin\\AppData\\Local\\Temp\\ipykernel_10188\\1656059463.py:1: FutureWarning: Indexing with multiple keys (implicitly converted to a tuple of keys) will be deprecated, use a list instead.\n",
      "  description = dataframe.groupby('cluster')['BALANCE', 'PURCHASES', 'CASH_ADVANCE', 'CREDIT_LIMIT', 'PAYMENTS']\n"
     ]
    },
    {
     "data": {
      "text/html": [
       "<div>\n",
       "<style scoped>\n",
       "    .dataframe tbody tr th:only-of-type {\n",
       "        vertical-align: middle;\n",
       "    }\n",
       "\n",
       "    .dataframe tbody tr th {\n",
       "        vertical-align: top;\n",
       "    }\n",
       "\n",
       "    .dataframe thead th {\n",
       "        text-align: right;\n",
       "    }\n",
       "</style>\n",
       "<table border=\"1\" class=\"dataframe\">\n",
       "  <thead>\n",
       "    <tr style=\"text-align: right;\">\n",
       "      <th></th>\n",
       "      <th>BALANCE</th>\n",
       "      <th>PURCHASES</th>\n",
       "      <th>CASH_ADVANCE</th>\n",
       "      <th>CREDIT_LIMIT</th>\n",
       "      <th>PAYMENTS</th>\n",
       "      <th>n_clients</th>\n",
       "    </tr>\n",
       "    <tr>\n",
       "      <th>cluster</th>\n",
       "      <th></th>\n",
       "      <th></th>\n",
       "      <th></th>\n",
       "      <th></th>\n",
       "      <th></th>\n",
       "      <th></th>\n",
       "    </tr>\n",
       "  </thead>\n",
       "  <tbody>\n",
       "    <tr>\n",
       "      <th>0</th>\n",
       "      <td>1963.743393</td>\n",
       "      <td>850.298471</td>\n",
       "      <td>417.369198</td>\n",
       "      <td>2210.275689</td>\n",
       "      <td>1339.214906</td>\n",
       "      <td>399</td>\n",
       "    </tr>\n",
       "    <tr>\n",
       "      <th>1</th>\n",
       "      <td>3044.938037</td>\n",
       "      <td>389.000167</td>\n",
       "      <td>1621.851847</td>\n",
       "      <td>4489.610144</td>\n",
       "      <td>968.134662</td>\n",
       "      <td>2642</td>\n",
       "    </tr>\n",
       "    <tr>\n",
       "      <th>2</th>\n",
       "      <td>1143.323704</td>\n",
       "      <td>3266.487766</td>\n",
       "      <td>183.835583</td>\n",
       "      <td>4092.072637</td>\n",
       "      <td>3044.597207</td>\n",
       "      <td>1544</td>\n",
       "    </tr>\n",
       "    <tr>\n",
       "      <th>3</th>\n",
       "      <td>445.102105</td>\n",
       "      <td>628.639333</td>\n",
       "      <td>143.824757</td>\n",
       "      <td>5131.606811</td>\n",
       "      <td>813.968250</td>\n",
       "      <td>3284</td>\n",
       "    </tr>\n",
       "    <tr>\n",
       "      <th>4</th>\n",
       "      <td>1800.909055</td>\n",
       "      <td>466.019473</td>\n",
       "      <td>3287.022132</td>\n",
       "      <td>3987.068651</td>\n",
       "      <td>4667.483007</td>\n",
       "      <td>1081</td>\n",
       "    </tr>\n",
       "  </tbody>\n",
       "</table>\n",
       "</div>"
      ],
      "text/plain": [
       "             BALANCE    PURCHASES  CASH_ADVANCE  CREDIT_LIMIT     PAYMENTS  \\\n",
       "cluster                                                                      \n",
       "0        1963.743393   850.298471    417.369198   2210.275689  1339.214906   \n",
       "1        3044.938037   389.000167   1621.851847   4489.610144   968.134662   \n",
       "2        1143.323704  3266.487766    183.835583   4092.072637  3044.597207   \n",
       "3         445.102105   628.639333    143.824757   5131.606811   813.968250   \n",
       "4        1800.909055   466.019473   3287.022132   3987.068651  4667.483007   \n",
       "\n",
       "         n_clients  \n",
       "cluster             \n",
       "0              399  \n",
       "1             2642  \n",
       "2             1544  \n",
       "3             3284  \n",
       "4             1081  "
      ]
     },
     "execution_count": 35,
     "metadata": {},
     "output_type": "execute_result"
    }
   ],
   "source": [
    "description = dataframe.groupby('cluster')['BALANCE', 'PURCHASES', 'CASH_ADVANCE', 'CREDIT_LIMIT', 'PAYMENTS']\n",
    "n_clients = description.size()\n",
    "\n",
    "description = description.mean()\n",
    "description['n_clients'] = n_clients\n",
    "\n",
    "description"
   ]
  },
  {
   "cell_type": "code",
   "execution_count": null,
   "metadata": {},
   "outputs": [],
   "source": []
  }
 ],
 "metadata": {
  "kernelspec": {
   "display_name": "Python 3.9.13 ('base')",
   "language": "python",
   "name": "python3"
  },
  "language_info": {
   "codemirror_mode": {
    "name": "ipython",
    "version": 3
   },
   "file_extension": ".py",
   "mimetype": "text/x-python",
   "name": "python",
   "nbconvert_exporter": "python",
   "pygments_lexer": "ipython3",
   "version": "3.9.13"
  },
  "orig_nbformat": 4,
  "vscode": {
   "interpreter": {
    "hash": "ad2bdc8ecc057115af97d19610ffacc2b4e99fae6737bb82f5d7fb13d2f2c186"
   }
  }
 },
 "nbformat": 4,
 "nbformat_minor": 2
}
