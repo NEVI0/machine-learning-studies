{
 "cells": [
  {
   "cell_type": "markdown",
   "metadata": {},
   "source": [
    "### Validação cruzada\n",
    "Exemplo de validação cruzada em algoritimos de machine learning"
   ]
  },
  {
   "cell_type": "code",
   "execution_count": 48,
   "metadata": {},
   "outputs": [
    {
     "data": {
      "text/html": [
       "<div>\n",
       "<style scoped>\n",
       "    .dataframe tbody tr th:only-of-type {\n",
       "        vertical-align: middle;\n",
       "    }\n",
       "\n",
       "    .dataframe tbody tr th {\n",
       "        vertical-align: top;\n",
       "    }\n",
       "\n",
       "    .dataframe thead th {\n",
       "        text-align: right;\n",
       "    }\n",
       "</style>\n",
       "<table border=\"1\" class=\"dataframe\">\n",
       "  <thead>\n",
       "    <tr style=\"text-align: right;\">\n",
       "      <th></th>\n",
       "      <th>price</th>\n",
       "      <th>sold</th>\n",
       "      <th>model_age</th>\n",
       "      <th>km_per_year</th>\n",
       "    </tr>\n",
       "  </thead>\n",
       "  <tbody>\n",
       "    <tr>\n",
       "      <th>0</th>\n",
       "      <td>30941.02</td>\n",
       "      <td>1</td>\n",
       "      <td>18</td>\n",
       "      <td>35085.22134</td>\n",
       "    </tr>\n",
       "    <tr>\n",
       "      <th>1</th>\n",
       "      <td>40557.96</td>\n",
       "      <td>1</td>\n",
       "      <td>20</td>\n",
       "      <td>12622.05362</td>\n",
       "    </tr>\n",
       "    <tr>\n",
       "      <th>2</th>\n",
       "      <td>89627.50</td>\n",
       "      <td>0</td>\n",
       "      <td>12</td>\n",
       "      <td>11440.79806</td>\n",
       "    </tr>\n",
       "    <tr>\n",
       "      <th>3</th>\n",
       "      <td>95276.14</td>\n",
       "      <td>0</td>\n",
       "      <td>3</td>\n",
       "      <td>43167.32682</td>\n",
       "    </tr>\n",
       "    <tr>\n",
       "      <th>4</th>\n",
       "      <td>117384.68</td>\n",
       "      <td>1</td>\n",
       "      <td>4</td>\n",
       "      <td>12770.11290</td>\n",
       "    </tr>\n",
       "  </tbody>\n",
       "</table>\n",
       "</div>"
      ],
      "text/plain": [
       "       price  sold  model_age  km_per_year\n",
       "0   30941.02     1         18  35085.22134\n",
       "1   40557.96     1         20  12622.05362\n",
       "2   89627.50     0         12  11440.79806\n",
       "3   95276.14     0          3  43167.32682\n",
       "4  117384.68     1          4  12770.11290"
      ]
     },
     "execution_count": 48,
     "metadata": {},
     "output_type": "execute_result"
    }
   ],
   "source": [
    "import pandas as pd\n",
    "\n",
    "uri = 'https://gist.githubusercontent.com/guilhermesilveira/e99a526b2e7ccc6c3b70f53db43a87d2/raw/1605fc74aa778066bf2e6695e24d53cf65f2f447/machine-learning-carros-simulacao.csv'\n",
    "data = pd.read_csv(uri)\n",
    "\n",
    "new_columns_name = {\n",
    "    'preco' : 'price',\n",
    "    'idade_do_modelo' : 'model_age',\n",
    "    'km_por_ano' : 'km_per_year',\n",
    "    'vendido' : 'sold'\n",
    "}\n",
    "\n",
    "data = data.drop(columns=['Unnamed: 0'], axis=1)\n",
    "data = data.rename(columns=new_columns_name)\n",
    "\n",
    "data.head()"
   ]
  },
  {
   "cell_type": "code",
   "execution_count": 49,
   "metadata": {},
   "outputs": [
    {
     "name": "stdout",
     "output_type": "stream",
     "text": [
      "We are going to train with 7500 elements and test with 2500.\n"
     ]
    }
   ],
   "source": [
    "import numpy as np\n",
    "\n",
    "from sklearn.svm import LinearSVC\n",
    "from sklearn.metrics import accuracy_score\n",
    "from sklearn.model_selection import train_test_split\n",
    "\n",
    "x = data[['price', 'model_age', 'km_per_year']] # X são os dados que queremos analisar\n",
    "y = data['sold'] # Y são os dados que usaremos para classificar os dados de X\n",
    "\n",
    "SEED = 158020 # Número aleatório usado pelo algoritimo de classificação (IMPORTANTE SETAR ELE PARA NÃO ALTERAR O VALOR FUTURAMENTE)\n",
    "TEST_PERCENTAGE = 0.25 # Constante para indicar a porcentagem de dados que queremos testar (25%)\n",
    "\n",
    "np.random.seed(SEED)\n",
    "\n",
    "# train_x = Dados de treino de X\n",
    "# test_x = Dados de teste de X\n",
    "# train_y = Dados de treino de Y\n",
    "# test_y = Dados de teste de Y\n",
    "\n",
    "train_x, test_x, train_y, test_y = train_test_split(x, y, test_size=TEST_PERCENTAGE, stratify=y) # O parametro \"stratify\" \n",
    "\n",
    "print('We are going to train with %d elements and test with %d.' % (len(train_x), len(test_x)))"
   ]
  },
  {
   "cell_type": "markdown",
   "metadata": {},
   "source": [
    "### Base-line\n",
    "Definição de uma base-line para decidir uma taxa de acerto aceitavel"
   ]
  },
  {
   "cell_type": "code",
   "execution_count": 50,
   "metadata": {},
   "outputs": [
    {
     "name": "stdout",
     "output_type": "stream",
     "text": [
      "The accuracy of dummy stratified was 50.96%\n"
     ]
    }
   ],
   "source": [
    "from sklearn.dummy import DummyClassifier\n",
    "\n",
    "dummy_stratified = DummyClassifier(strategy='stratified') # Instancia um classificador fictício\n",
    "dummy_stratified.fit(train_x, train_y) # Treina o classificador com os dados de treino\n",
    "\n",
    "dummy_accuracy = dummy_stratified.score(test_x, test_y) * 100 # Método que obtem a taxa de acerto do classificador fictício \n",
    "\n",
    "print('The accuracy of dummy stratified was %.2f%%' % dummy_accuracy)"
   ]
  },
  {
   "cell_type": "markdown",
   "metadata": {},
   "source": [
    "### Árvore de decisão\n",
    "Algoritimo de classificação baseado na estrutura de árvore"
   ]
  },
  {
   "cell_type": "code",
   "execution_count": 51,
   "metadata": {},
   "outputs": [
    {
     "name": "stdout",
     "output_type": "stream",
     "text": [
      "The model accuracy was 71.92%\n"
     ]
    }
   ],
   "source": [
    "from sklearn.tree import DecisionTreeClassifier\n",
    "\n",
    "TREE_MAX_DEPTH = 2 # Número máx. de profundidade que o algoritimo deve legar em consideração para executar todos os dados\n",
    "SEED = 158020 # Número aleatório usado pelo algoritimo de classificação (IMPORTANTE SETAR ELE PARA NÃO ALTERAR O VALOR FUTURAMENTE)\n",
    "\n",
    "np.random.seed(SEED)\n",
    "\n",
    "model = DecisionTreeClassifier(max_depth=TREE_MAX_DEPTH) # Instancia um classificador de árvore\n",
    "model.fit(train_x, train_y) # Treina o classificador com os dados de treino\n",
    "\n",
    "predictions = model.predict(test_x) # Retorna as previsões de acerto que o classificador foi treinado com base nos dados de teste\n",
    "model_accuracy = accuracy_score(test_y, predictions) * 100 # Método que obtem a taxa de acerto do test com base nas previsões de acerto\n",
    "\n",
    "print('The model accuracy was %.2f%%' % model_accuracy)"
   ]
  },
  {
   "cell_type": "markdown",
   "metadata": {},
   "source": [
    "### Validação cruzada na prática"
   ]
  },
  {
   "cell_type": "code",
   "execution_count": 52,
   "metadata": {},
   "outputs": [],
   "source": [
    "def print_model_results(results):\n",
    "    average = results['test_score'].mean() # Média dos resultados do teste cruzado\n",
    "    average_default_detour = results['test_score'].std() # Desvio padrão da média do teste cruzado\n",
    "\n",
    "    print('Accuracy average: %.2f' % (average * 100))\n",
    "    print('Accuracy detour: [%.2f, %.2f]' % ((average - 2 * average_default_detour) * 100, (average + 2 * average_default_detour) * 100))"
   ]
  },
  {
   "cell_type": "code",
   "execution_count": 53,
   "metadata": {},
   "outputs": [
    {
     "name": "stdout",
     "output_type": "stream",
     "text": [
      "Accuracy average: 75.78\n",
      "Accuracy detour: [75.21, 76.35]\n"
     ]
    }
   ],
   "source": [
    "from sklearn.model_selection import cross_validate\n",
    "from sklearn.tree import DecisionTreeClassifier\n",
    "\n",
    "import numpy as np\n",
    "\n",
    "CROSS_VALIDATION_NUMBER = 5 # Número de vezes que o algoritimo vai quebrar a amostra de dados para validar (5 É O PADRÃO UTILIZADO NO MERCADO)\n",
    "TREE_MAX_DEPTH = 2 # Número máx. de profundidade que o algoritimo deve legar em consideração para executar todos os dados\n",
    "\n",
    "# np.random.seed(SEED) # Para o cross validation não é mais preciso setar um número aleatório para o algoritomo usar\n",
    "\n",
    "model = DecisionTreeClassifier(max_depth=TREE_MAX_DEPTH)\n",
    "results = cross_validate(model, x, y, cv=CROSS_VALIDATION_NUMBER)\n",
    "\n",
    "print_model_results(results)"
   ]
  },
  {
   "cell_type": "markdown",
   "metadata": {},
   "source": [
    "### Aleatóriedade no cross validate"
   ]
  },
  {
   "cell_type": "code",
   "execution_count": 54,
   "metadata": {},
   "outputs": [
    {
     "name": "stdout",
     "output_type": "stream",
     "text": [
      "Accuracy average: 75.78\n",
      "Accuracy detour: [74.37, 77.19]\n"
     ]
    }
   ],
   "source": [
    "from sklearn.model_selection import cross_validate, KFold\n",
    "from sklearn.tree import DecisionTreeClassifier\n",
    "\n",
    "TREE_MAX_DEPTH = 2 # Número máx. de profundidade que o algoritimo deve legar em consideração para executar todos os dados\n",
    "\n",
    "cross_validation_number = KFold(n_splits=10) # Número de vezes que o algoritimo vai quebrar a amostra de dados para validar (5 É O PADRÃO UTILIZADO NO MERCADO)\n",
    "\n",
    "model = DecisionTreeClassifier(max_depth=TREE_MAX_DEPTH)\n",
    "results = cross_validate(model, x, y, cv=cross_validation_number)\n",
    "\n",
    "print_model_results(results)"
   ]
  },
  {
   "cell_type": "code",
   "execution_count": 55,
   "metadata": {},
   "outputs": [
    {
     "name": "stdout",
     "output_type": "stream",
     "text": [
      "Accuracy average: 75.78\n",
      "Accuracy detour: [73.28, 78.28]\n"
     ]
    }
   ],
   "source": [
    "TREE_MAX_DEPTH = 2 # Número máx. de profundidade que o algoritimo deve legar em consideração para executar todos os dados\n",
    "\n",
    "# O parametro \"shuffle\" quebra a amostra de dados para gerar o número de dados para validar\n",
    "cross_validation_number = KFold(n_splits=10, shuffle=True) # Número de vezes que o algoritimo vai quebrar a amostra de dados para validar (5 É O PADRÃO UTILIZADO NO MERCADO)\n",
    "\n",
    "model = DecisionTreeClassifier(max_depth=TREE_MAX_DEPTH)\n",
    "results = cross_validate(model, x, y, cv=cross_validation_number)\n",
    "\n",
    "print_model_results(results)"
   ]
  },
  {
   "cell_type": "markdown",
   "metadata": {},
   "source": [
    "### Simulação horrivel de azar\n",
    "\n",
    "Pode ser tanto um \"azar\" quanto um desbalanceamento na proporção de exemplos entre as classes."
   ]
  },
  {
   "cell_type": "code",
   "execution_count": 56,
   "metadata": {},
   "outputs": [
    {
     "data": {
      "text/html": [
       "<div>\n",
       "<style scoped>\n",
       "    .dataframe tbody tr th:only-of-type {\n",
       "        vertical-align: middle;\n",
       "    }\n",
       "\n",
       "    .dataframe tbody tr th {\n",
       "        vertical-align: top;\n",
       "    }\n",
       "\n",
       "    .dataframe thead th {\n",
       "        text-align: right;\n",
       "    }\n",
       "</style>\n",
       "<table border=\"1\" class=\"dataframe\">\n",
       "  <thead>\n",
       "    <tr style=\"text-align: right;\">\n",
       "      <th></th>\n",
       "      <th>price</th>\n",
       "      <th>sold</th>\n",
       "      <th>model_age</th>\n",
       "      <th>km_per_year</th>\n",
       "    </tr>\n",
       "  </thead>\n",
       "  <tbody>\n",
       "    <tr>\n",
       "      <th>4999</th>\n",
       "      <td>74023.29</td>\n",
       "      <td>0</td>\n",
       "      <td>12</td>\n",
       "      <td>24812.80412</td>\n",
       "    </tr>\n",
       "    <tr>\n",
       "      <th>5322</th>\n",
       "      <td>84843.49</td>\n",
       "      <td>0</td>\n",
       "      <td>13</td>\n",
       "      <td>23095.63834</td>\n",
       "    </tr>\n",
       "    <tr>\n",
       "      <th>5319</th>\n",
       "      <td>83100.27</td>\n",
       "      <td>0</td>\n",
       "      <td>19</td>\n",
       "      <td>36240.72746</td>\n",
       "    </tr>\n",
       "    <tr>\n",
       "      <th>5316</th>\n",
       "      <td>87932.13</td>\n",
       "      <td>0</td>\n",
       "      <td>16</td>\n",
       "      <td>32249.56426</td>\n",
       "    </tr>\n",
       "    <tr>\n",
       "      <th>5315</th>\n",
       "      <td>77937.01</td>\n",
       "      <td>0</td>\n",
       "      <td>15</td>\n",
       "      <td>28414.50704</td>\n",
       "    </tr>\n",
       "  </tbody>\n",
       "</table>\n",
       "</div>"
      ],
      "text/plain": [
       "         price  sold  model_age  km_per_year\n",
       "4999  74023.29     0         12  24812.80412\n",
       "5322  84843.49     0         13  23095.63834\n",
       "5319  83100.27     0         19  36240.72746\n",
       "5316  87932.13     0         16  32249.56426\n",
       "5315  77937.01     0         15  28414.50704"
      ]
     },
     "execution_count": 56,
     "metadata": {},
     "output_type": "execute_result"
    }
   ],
   "source": [
    "unlucky_data = data.sort_values('sold', ascending=True) # Ordena os dados de forma crescente\n",
    "\n",
    "unlucky_x = unlucky_data[['price', 'model_age', 'km_per_year']] # X são os dados que queremos analisar\n",
    "unlucky_y = unlucky_data['sold'] # Y são os dados que usaremos para classificar os dados de X\n",
    "\n",
    "unlucky_data.head()"
   ]
  },
  {
   "cell_type": "code",
   "execution_count": 57,
   "metadata": {},
   "outputs": [
    {
     "name": "stdout",
     "output_type": "stream",
     "text": [
      "Accuracy average: 57.84\n",
      "Accuracy detour: [34.29, 81.39]\n"
     ]
    }
   ],
   "source": [
    "from sklearn.model_selection import cross_validate, KFold\n",
    "from sklearn.tree import DecisionTreeClassifier\n",
    "\n",
    "TREE_MAX_DEPTH = 2 # Número máx. de profundidade que o algoritimo deve legar em consideração para executar todos os dados\n",
    "\n",
    "cross_validation_number = KFold(n_splits=10) # Número de vezes que o algoritimo vai quebrar a amostra de dados para validar (5 É O PADRÃO UTILIZADO NO MERCADO)\n",
    "\n",
    "model = DecisionTreeClassifier(max_depth=TREE_MAX_DEPTH)\n",
    "results = cross_validate(model, unlucky_x, unlucky_y, cv=cross_validation_number)\n",
    "\n",
    "print_model_results(results)"
   ]
  },
  {
   "cell_type": "code",
   "execution_count": 58,
   "metadata": {},
   "outputs": [
    {
     "name": "stdout",
     "output_type": "stream",
     "text": [
      "Accuracy average: 75.78\n",
      "Accuracy detour: [73.15, 78.41]\n"
     ]
    }
   ],
   "source": [
    "from sklearn.model_selection import cross_validate, KFold\n",
    "from sklearn.tree import DecisionTreeClassifier\n",
    "\n",
    "TREE_MAX_DEPTH = 2 # Número máx. de profundidade que o algoritimo deve legar em consideração para executar todos os dados\n",
    "\n",
    "cross_validation_number = KFold(n_splits=10, shuffle=True) # Número de vezes que o algoritimo vai quebrar a amostra de dados para validar (5 É O PADRÃO UTILIZADO NO MERCADO)\n",
    "\n",
    "model = DecisionTreeClassifier(max_depth=TREE_MAX_DEPTH)\n",
    "results = cross_validate(model, unlucky_x, unlucky_y, cv=cross_validation_number)\n",
    "\n",
    "print_model_results(results)"
   ]
  },
  {
   "cell_type": "code",
   "execution_count": 59,
   "metadata": {},
   "outputs": [
    {
     "name": "stdout",
     "output_type": "stream",
     "text": [
      "Accuracy average: 75.78\n",
      "Accuracy detour: [73.82, 77.74]\n"
     ]
    }
   ],
   "source": [
    "from sklearn.model_selection import cross_validate, StratifiedKFold\n",
    "from sklearn.tree import DecisionTreeClassifier\n",
    "\n",
    "TREE_MAX_DEPTH = 2 # Número máx. de profundidade que o algoritimo deve legar em consideração para executar todos os dados\n",
    "\n",
    "cross_validation_number = StratifiedKFold(n_splits=10, shuffle=True) # Número de vezes que o algoritimo vai quebrar a amostra de dados para validar (5 É O PADRÃO UTILIZADO NO MERCADO)\n",
    "\n",
    "model = DecisionTreeClassifier(max_depth=TREE_MAX_DEPTH)\n",
    "results = cross_validate(model, unlucky_x, unlucky_y, cv=cross_validation_number)\n",
    "\n",
    "print_model_results(results)"
   ]
  },
  {
   "cell_type": "markdown",
   "metadata": {},
   "source": [
    "### Gerando uma coluna aleatória para testes"
   ]
  },
  {
   "cell_type": "code",
   "execution_count": 60,
   "metadata": {},
   "outputs": [
    {
     "data": {
      "text/html": [
       "<div>\n",
       "<style scoped>\n",
       "    .dataframe tbody tr th:only-of-type {\n",
       "        vertical-align: middle;\n",
       "    }\n",
       "\n",
       "    .dataframe tbody tr th {\n",
       "        vertical-align: top;\n",
       "    }\n",
       "\n",
       "    .dataframe thead th {\n",
       "        text-align: right;\n",
       "    }\n",
       "</style>\n",
       "<table border=\"1\" class=\"dataframe\">\n",
       "  <thead>\n",
       "    <tr style=\"text-align: right;\">\n",
       "      <th></th>\n",
       "      <th>price</th>\n",
       "      <th>sold</th>\n",
       "      <th>model_age</th>\n",
       "      <th>km_per_year</th>\n",
       "      <th>random_model</th>\n",
       "    </tr>\n",
       "  </thead>\n",
       "  <tbody>\n",
       "    <tr>\n",
       "      <th>0</th>\n",
       "      <td>30941.02</td>\n",
       "      <td>1</td>\n",
       "      <td>18</td>\n",
       "      <td>35085.22134</td>\n",
       "      <td>19</td>\n",
       "    </tr>\n",
       "    <tr>\n",
       "      <th>1</th>\n",
       "      <td>40557.96</td>\n",
       "      <td>1</td>\n",
       "      <td>20</td>\n",
       "      <td>12622.05362</td>\n",
       "      <td>22</td>\n",
       "    </tr>\n",
       "    <tr>\n",
       "      <th>2</th>\n",
       "      <td>89627.50</td>\n",
       "      <td>0</td>\n",
       "      <td>12</td>\n",
       "      <td>11440.79806</td>\n",
       "      <td>14</td>\n",
       "    </tr>\n",
       "    <tr>\n",
       "      <th>3</th>\n",
       "      <td>95276.14</td>\n",
       "      <td>0</td>\n",
       "      <td>3</td>\n",
       "      <td>43167.32682</td>\n",
       "      <td>4</td>\n",
       "    </tr>\n",
       "    <tr>\n",
       "      <th>4</th>\n",
       "      <td>117384.68</td>\n",
       "      <td>1</td>\n",
       "      <td>4</td>\n",
       "      <td>12770.11290</td>\n",
       "      <td>4</td>\n",
       "    </tr>\n",
       "  </tbody>\n",
       "</table>\n",
       "</div>"
      ],
      "text/plain": [
       "       price  sold  model_age  km_per_year  random_model\n",
       "0   30941.02     1         18  35085.22134            19\n",
       "1   40557.96     1         20  12622.05362            22\n",
       "2   89627.50     0         12  11440.79806            14\n",
       "3   95276.14     0          3  43167.32682             4\n",
       "4  117384.68     1          4  12770.11290             4"
      ]
     },
     "execution_count": 60,
     "metadata": {},
     "output_type": "execute_result"
    }
   ],
   "source": [
    "np.random.seed(SEED)\n",
    "\n",
    "data_length = len(data)\n",
    "data['random_model'] = data['model_age'] + np.random.randint(-2, 3, size=data_length) # Soma a idade do modelo com um número aleatório entre -2 e 2\n",
    "data['random_model'] = data['random_model'] + abs(data['random_model'].min()) + 1 # Formata o menor número para um número absoluto e soma no modelo aleatório gerado\n",
    "\n",
    "data.head()"
   ]
  },
  {
   "cell_type": "markdown",
   "metadata": {},
   "source": [
    "E classificando por grupo"
   ]
  },
  {
   "cell_type": "code",
   "execution_count": 66,
   "metadata": {},
   "outputs": [
    {
     "name": "stdout",
     "output_type": "stream",
     "text": [
      "Accuracy average: 75.76\n",
      "Accuracy detour: [72.91, 78.60]\n"
     ]
    }
   ],
   "source": [
    "from sklearn.model_selection import cross_validate, GroupKFold\n",
    "from sklearn.tree import DecisionTreeClassifier\n",
    "\n",
    "TREE_MAX_DEPTH = 2 # Número máx. de profundidade que o algoritimo deve legar em consideração para executar todos os dados\n",
    "\n",
    "cross_validation_number = GroupKFold(n_splits=10) # Número de vezes que o algoritimo vai quebrar a amostra de dados para validar separado por grupos\n",
    "\n",
    "model = DecisionTreeClassifier(max_depth=TREE_MAX_DEPTH)\n",
    "results = cross_validate(model, unlucky_x, unlucky_y, groups=data['random_model'], cv=cross_validation_number)\n",
    "\n",
    "print_model_results(results)"
   ]
  },
  {
   "cell_type": "code",
   "execution_count": null,
   "metadata": {},
   "outputs": [],
   "source": []
  },
  {
   "cell_type": "code",
   "execution_count": null,
   "metadata": {},
   "outputs": [],
   "source": []
  }
 ],
 "metadata": {
  "kernelspec": {
   "display_name": "Python 3.9.13 ('base')",
   "language": "python",
   "name": "python3"
  },
  "language_info": {
   "codemirror_mode": {
    "name": "ipython",
    "version": 3
   },
   "file_extension": ".py",
   "mimetype": "text/x-python",
   "name": "python",
   "nbconvert_exporter": "python",
   "pygments_lexer": "ipython3",
   "version": "3.9.13"
  },
  "orig_nbformat": 4,
  "vscode": {
   "interpreter": {
    "hash": "ad2bdc8ecc057115af97d19610ffacc2b4e99fae6737bb82f5d7fb13d2f2c186"
   }
  }
 },
 "nbformat": 4,
 "nbformat_minor": 2
}
